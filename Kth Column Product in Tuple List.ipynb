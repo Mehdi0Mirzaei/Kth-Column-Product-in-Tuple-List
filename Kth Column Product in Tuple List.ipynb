{
 "cells": [
  {
   "cell_type": "code",
   "execution_count": 42,
   "id": "9ea36ea1",
   "metadata": {},
   "outputs": [
    {
     "name": "stdout",
     "output_type": "stream",
     "text": [
      "The original list is : [(5, 6, 7), (1, 3, 5), (8, 9, 19)]\n",
      "Product of Kth Column of Tuple List : 665\n"
     ]
    }
   ],
   "source": [
    "def prod(val):\n",
    "    res = 1\n",
    "    for ele in val:\n",
    "        res *= ele\n",
    "    return res\n",
    " \n",
    " # initialize list\n",
    "test_list = [(5, 6, 7), (1, 3, 5), (8, 9, 19)]\n",
    " \n",
    "# printing original list\n",
    "print(\"The original list is : \" + str(test_list))\n",
    " \n",
    "# initialize K\n",
    "K = 2\n",
    " \n",
    "# Tuple List Kth Column Product\n",
    "# using list comprehension + loop\n",
    "res = prod([sub[K] for sub in test_list])\n",
    " \n",
    "# printing result\n",
    "print(\"Product of Kth Column of Tuple List : \" + str(res))"
   ]
  },
  {
   "cell_type": "code",
   "execution_count": 43,
   "id": "e3de7d9c",
   "metadata": {},
   "outputs": [
    {
     "name": "stdout",
     "output_type": "stream",
     "text": [
      "The original list is : [(5, 6, 7), (1, 3, 5), (8, 9, 19)]\n",
      "Product of Kth Column of Tuple List : 665\n"
     ]
    }
   ],
   "source": [
    "# initialize list\n",
    "test_list = [(5, 6, 7), (1, 3, 5), (8, 9, 19)]\n",
    " \n",
    "# printing original list\n",
    "print(\"The original list is : \" + str(test_list))\n",
    " \n",
    "# initialize K\n",
    "K = 2\n",
    " \n",
    "# Tuple List Kth Column Product\n",
    "x=[]\n",
    "for i in test_list:\n",
    "    x.append(i[K])\n",
    " \n",
    "from functools import reduce\n",
    "import operator\n",
    " \n",
    "res=reduce(operator.mul, x , 1)\n",
    "# printing result\n",
    "print(\"Product of Kth Column of Tuple List : \" + str(res))"
   ]
  },
  {
   "cell_type": "code",
   "execution_count": 44,
   "id": "dc9fb519",
   "metadata": {},
   "outputs": [
    {
     "name": "stdout",
     "output_type": "stream",
     "text": [
      "The original list is : [(5, 6, 7), (1, 3, 5), (8, 9, 19)]\n",
      "Product of Kth Column of Tuple List : 665\n"
     ]
    }
   ],
   "source": [
    "import numpy as np\n",
    " \n",
    "# initialize list\n",
    "test_list = [(5, 6, 7), (1, 3, 5), (8, 9, 19)]\n",
    " \n",
    "# printing original list\n",
    "print(\"The original list is : \" + str(test_list))\n",
    " \n",
    "# initialize K\n",
    "K = 2\n",
    " \n",
    "# Tuple List Kth Column Product\n",
    "column = [i[K] for i in test_list]\n",
    "res = np.prod(column)\n",
    " \n",
    "# printing result\n",
    "print(\"Product of Kth Column of Tuple List : \" + str(res))"
   ]
  },
  {
   "cell_type": "code",
   "execution_count": 45,
   "id": "05aefd08",
   "metadata": {},
   "outputs": [
    {
     "name": "stdout",
     "output_type": "stream",
     "text": [
      "Product of Kth Column of Tuple List: 665\n"
     ]
    }
   ],
   "source": [
    "test_list = [(5, 6, 7), (1, 3, 5), (8, 9, 19)]\n",
    "K = 2\n",
    " \n",
    "product = 1\n",
    "for tup in test_list:\n",
    "    product *= tup[K]\n",
    " \n",
    "print(\"Product of Kth Column of Tuple List: \" + str(product))\n"
   ]
  },
  {
   "cell_type": "code",
   "execution_count": null,
   "id": "4e83bea7",
   "metadata": {},
   "outputs": [],
   "source": []
  }
 ],
 "metadata": {
  "kernelspec": {
   "display_name": "Python 3 (ipykernel)",
   "language": "python",
   "name": "python3"
  },
  "language_info": {
   "codemirror_mode": {
    "name": "ipython",
    "version": 3
   },
   "file_extension": ".py",
   "mimetype": "text/x-python",
   "name": "python",
   "nbconvert_exporter": "python",
   "pygments_lexer": "ipython3",
   "version": "3.9.13"
  }
 },
 "nbformat": 4,
 "nbformat_minor": 5
}
